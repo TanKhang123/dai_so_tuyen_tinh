{
 "cells": [
  {
   "cell_type": "code",
   "execution_count": 2,
   "id": "b864409a",
   "metadata": {},
   "outputs": [
    {
     "name": "stdout",
     "output_type": "stream",
     "text": [
      "Ma trận cuối cùng:\n",
      "[[165707065  80143857]\n",
      " [ 52746197  25510582]]\n",
      "\n",
      "Giá trị gần đúng của π: 3.1415926535897936\n"
     ]
    }
   ],
   "source": [
    "import numpy as np\n",
    "\n",
    "c = [3, 7, 15, 1, 292, 1, 1, 1, 2, 1, 3, 1, 14, 2]\n",
    "\n",
    "for i in range(len(c)):\n",
    "    ci = np.asmatrix([[c[i], 1], [1, 0]])\n",
    "    if i == 0:\n",
    "        M = ci\n",
    "    else:\n",
    "        M = M.dot(ci)\n",
    "\n",
    "print(\"Ma trận cuối cùng:\")\n",
    "print(M)\n",
    "print(\"\\nGiá trị gần đúng của π:\", M[0, 0] / M[1, 0])"
   ]
  }
 ],
 "metadata": {
  "kernelspec": {
   "display_name": "Python 3",
   "language": "python",
   "name": "python3"
  },
  "language_info": {
   "codemirror_mode": {
    "name": "ipython",
    "version": 3
   },
   "file_extension": ".py",
   "mimetype": "text/x-python",
   "name": "python",
   "nbconvert_exporter": "python",
   "pygments_lexer": "ipython3",
   "version": "3.12.6"
  }
 },
 "nbformat": 4,
 "nbformat_minor": 5
}
