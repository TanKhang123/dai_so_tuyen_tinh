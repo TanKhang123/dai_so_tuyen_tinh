{
 "cells": [
  {
   "cell_type": "code",
   "execution_count": null,
   "id": "5f774e8d",
   "metadata": {},
   "outputs": [
    {
     "name": "stdout",
     "output_type": "stream",
     "text": [
      "Phương trình tuyến tính: y = 10.2 + (-1.9) * x\n"
     ]
    }
   ],
   "source": [
    "import numpy as np\n",
    "\n",
    "def bpcuctieu(a):\n",
    "    \"\"\"\n",
    "    Hàm tính hồi quy tuyến tính y = a0 + a1*x theo phương pháp bình phương cực tiểu\n",
    "    Input: a - danh sách các giá trị y (tại x = 0, 1, 2, ...)\n",
    "    Output: hệ số [a0, a1]\n",
    "    \"\"\"\n",
    "    n = len(a)\n",
    "    y = np.array(a)\n",
    "    x_values = np.arange(n)\n",
    "    X = np.vstack((np.ones(n), x_values)) \n",
    "    U = X @ X.T        \n",
    "    U_inv = np.linalg.inv(U)\n",
    "    V = U_inv @ X         \n",
    "    A = V @ y             \n",
    "\n",
    "    return A\n",
    "\n",
    "\n",
    "dulieu = [10.0, 8, 7, 5, 2]\n",
    "a0, a1 = bpcuctieu(dulieu)\n",
    "\n",
    "print(f\"Phương trình tuyến tính: y = {a0:.1f} + ({a1:.1f}) * x\")\n"
   ]
  }
 ],
 "metadata": {
  "kernelspec": {
   "display_name": "Python 3",
   "language": "python",
   "name": "python3"
  },
  "language_info": {
   "codemirror_mode": {
    "name": "ipython",
    "version": 3
   },
   "file_extension": ".py",
   "mimetype": "text/x-python",
   "name": "python",
   "nbconvert_exporter": "python",
   "pygments_lexer": "ipython3",
   "version": "3.12.6"
  }
 },
 "nbformat": 4,
 "nbformat_minor": 5
}
