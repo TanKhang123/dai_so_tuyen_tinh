{
 "cells": [
  {
   "cell_type": "code",
   "execution_count": null,
   "id": "258a0750",
   "metadata": {},
   "outputs": [
    {
     "name": "stdout",
     "output_type": "stream",
     "text": [
      "Hệ số hồi quy: a0 = -0.200, a1 = 1.200\n",
      "Phương trình hồi quy: y = -0.200 + 1.200 * x\n",
      "Tổng sai số bình phương: 0.800\n",
      "Dự đoán chiều cao cây vào ngày thứ 6: 7.00 cm\n"
     ]
    }
   ],
   "source": [
    "import numpy as np\n",
    "\n",
    "# 1. Dữ liệu ban đầu: Ngày (x) và Chiều cao (y)\n",
    "x = np.array([1, 2, 3, 4, 5])\n",
    "y = np.array([1.0, 2.0, 4.0, 4.0, 6.0])\n",
    "\n",
    "# 2. Tạo ma trận X (thêm cột 1 để chứa hệ số tự do a0)\n",
    "X = np.column_stack((np.ones(len(x)), x))\n",
    "\n",
    "# 3. Chuyển y thành vector cột\n",
    "Y = y.reshape(-1, 1)\n",
    "\n",
    "# 4. Tính hệ số hồi quy: A = (X^T X)^-1 X^T Y\n",
    "XT = X.T\n",
    "A1 = np.linalg.inv(XT @ X)\n",
    "A2 = XT @ Y\n",
    "A = A1 @ A2\n",
    "\n",
    "# 5. Hiển thị hệ số hồi quy a0, a1\n",
    "a0, a1 = A.ravel()\n",
    "print(f\"Hệ số hồi quy: a0 = {a0:.3f}, a1 = {a1:.3f}\")\n",
    "print(f\"Phương trình hồi quy: y = {a0:.3f} + {a1:.3f} * x\")\n",
    "\n",
    "# 6. Tính giá trị dự đoán y' theo mô hình\n",
    "y_pred = X @ A\n",
    "\n",
    "# 7. Tính sai số bình phương và tổng sai số bình phương\n",
    "squared_errors = (y_pred - Y) ** 2\n",
    "total_error = np.sum(squared_errors)\n",
    "print(f\"Tổng sai số bình phương: {total_error:.3f}\")\n",
    "\n",
    "# 8. Dự đoán chiều cao ngày thứ 6\n",
    "day6 = 6\n",
    "height_day6 = a0 + a1 * day6\n",
    "print(f\"Dự đoán chiều cao cây vào ngày thứ 6: {height_day6:.2f} cm\")\n"
   ]
  }
 ],
 "metadata": {
  "kernelspec": {
   "display_name": "Python 3",
   "language": "python",
   "name": "python3"
  },
  "language_info": {
   "codemirror_mode": {
    "name": "ipython",
    "version": 3
   },
   "file_extension": ".py",
   "mimetype": "text/x-python",
   "name": "python",
   "nbconvert_exporter": "python",
   "pygments_lexer": "ipython3",
   "version": "3.12.6"
  }
 },
 "nbformat": 4,
 "nbformat_minor": 5
}
