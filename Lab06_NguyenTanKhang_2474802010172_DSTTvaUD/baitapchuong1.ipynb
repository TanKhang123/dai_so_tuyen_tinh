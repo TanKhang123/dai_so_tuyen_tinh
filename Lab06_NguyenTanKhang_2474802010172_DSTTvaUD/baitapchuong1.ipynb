{
 "cells": [
  {
   "cell_type": "code",
   "execution_count": null,
   "id": "f95dd292",
   "metadata": {},
   "outputs": [
    {
     "name": "stdout",
     "output_type": "stream",
     "text": [
      "Cách a (dot): 3.7416573867739413\n",
      "Cách b (@): 3.7416573867739413\n",
      "Cách c (inner): 3.7416573867739413\n",
      "Cách d (lambda): 3.7416573867739413\n",
      "Cách chuẩn dùng np.linalg.norm: 3.7416573867739413\n"
     ]
    }
   ],
   "source": [
    "import numpy as np\n",
    "import math\n",
    "a = np.array([1, 2, 3])\n",
    "mag_a = np.sqrt(a.dot(a))\n",
    "print(\"Cách a (dot):\", mag_a)\n",
    "mag_b = np.sqrt(a @ a)\n",
    "print(\"Cách b (@):\", mag_b)\n",
    "mag_c = np.sqrt(np.inner(a, a))\n",
    "print(\"Cách c (inner):\", mag_c)\n",
    "mag_d = lambda x : math.sqrt(sum(i**2 for i in x))\n",
    "print(\"Cách d (lambda):\", mag_d(a))\n",
    "mag_recommended = np.linalg.norm(a)\n",
    "print(\"Cách chuẩn dùng np.linalg.norm:\", mag_recommended)\n"
   ]
  }
 ],
 "metadata": {
  "kernelspec": {
   "display_name": "Python 3",
   "language": "python",
   "name": "python3"
  },
  "language_info": {
   "codemirror_mode": {
    "name": "ipython",
    "version": 3
   },
   "file_extension": ".py",
   "mimetype": "text/x-python",
   "name": "python",
   "nbconvert_exporter": "python",
   "pygments_lexer": "ipython3",
   "version": "3.12.6"
  }
 },
 "nbformat": 4,
 "nbformat_minor": 5
}
