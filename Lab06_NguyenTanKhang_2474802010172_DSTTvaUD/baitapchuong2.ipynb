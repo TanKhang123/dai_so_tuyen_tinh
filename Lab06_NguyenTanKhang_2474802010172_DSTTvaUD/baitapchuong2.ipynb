{
 "cells": [
  {
   "cell_type": "code",
   "execution_count": null,
   "id": "c6b4c823",
   "metadata": {},
   "outputs": [
    {
     "name": "stdout",
     "output_type": "stream",
     "text": [
      "\n",
      "✅ a. Khoảng cách giữa u và v: 5.1962\n",
      "✅ b. Góc giữa u và v: 12.93 độ\n",
      "✅ c. Phép chiếu u lên v là: [1.66233766 2.07792208 2.49350649]\n"
     ]
    }
   ],
   "source": [
    "import numpy as np\n",
    "from numpy.linalg import norm\n",
    "from math import acos, degrees\n",
    "def nhap_vector():\n",
    "    u = np.array(list(map(float, input(\"Nhập vector u (cách nhau bởi dấu cách): \").split())))\n",
    "    v = np.array(list(map(float, input(\"Nhập vector v (cách nhau bởi dấu cách): \").split())))\n",
    "    return u, v\n",
    "def tinh_khoang_cach(u, v):\n",
    "    distance = norm(u - v)\n",
    "    return distance\n",
    "def tinh_goc(u, v):\n",
    "    cos_theta = np.dot(u, v) / (norm(u) * norm(v))\n",
    "    cos_theta = np.clip(cos_theta, -1.0, 1.0)  \n",
    "    angle_rad = acos(cos_theta)\n",
    "    angle_deg = degrees(angle_rad)\n",
    "    return angle_deg\n",
    "def phep_chieu(u, v):\n",
    "    projection = (np.dot(u, v) / np.dot(v, v)) * v\n",
    "    return projection\n",
    "if __name__ == \"__main__\":\n",
    "    u, v = nhap_vector()\n",
    "    kc = tinh_khoang_cach(u, v)\n",
    "    print(f\"\\n✅ a. Khoảng cách giữa u và v: {kc:.4f}\")\n",
    "    goc = tinh_goc(u, v)\n",
    "    print(f\"✅ b. Góc giữa u và v: {goc:.2f} độ\")\n",
    "    chieu = phep_chieu(u, v)\n",
    "    print(f\"✅ c. Phép chiếu u lên v là: {chieu}\")\n"
   ]
  }
 ],
 "metadata": {
  "kernelspec": {
   "display_name": "Python 3",
   "language": "python",
   "name": "python3"
  },
  "language_info": {
   "codemirror_mode": {
    "name": "ipython",
    "version": 3
   },
   "file_extension": ".py",
   "mimetype": "text/x-python",
   "name": "python",
   "nbconvert_exporter": "python",
   "pygments_lexer": "ipython3",
   "version": "3.12.6"
  }
 },
 "nbformat": 4,
 "nbformat_minor": 5
}
