{
 "cells": [
  {
   "cell_type": "code",
   "execution_count": null,
   "id": "0dbdb805",
   "metadata": {},
   "outputs": [],
   "source": [
    "import numpy as np\n",
    "import math\n",
    "a = np.array([1, 2, -3])\n",
    "b = np.array([4, 5, 6])\n",
    "dot_inner = np.inner(a, b)\n",
    "dot_dot = np.dot(a, b)\n",
    "norm_1 = np.linalg.norm(a, 1)\n",
    "norm_2 = np.linalg.norm(a, 2)\n",
    "norm_3 = np.linalg.norm(a, 3)\n",
    "norm_1000 = np.linalg.norm(a, 1000)\n",
    "distance = np.linalg.norm(a - b)\n",
    "\n",
    "\n",
    "cos_theta = np.dot(a, b) / (np.linalg.norm(a) * np.linalg.norm(b))\n",
    "theta_rad = np.arccos(cos_theta)\n",
    "theta_deg = np.degrees(theta_rad)\n",
    "\n",
    "\n",
    "print(\"Tích vô hướng (inner):\", dot_inner)\n",
    "print(\"Tích vô hướng (dot):\", dot_dot)\n",
    "print(\"Chuẩn 1 của a:\", norm_1)\n",
    "print(\"Chuẩn 2 của a:\", norm_2)\n",
    "print(\"Chuẩn 3 của a:\", norm_3)\n",
    "print(\"Chuẩn 1000 của a:\", norm_1000)\n",
    "print(\"Khoảng cách giữa a và b:\", distance)\n",
    "print(\"Góc giữa a và b (radian):\", theta_rad)\n",
    "print(\"Góc giữa a và b (độ):\", theta_deg)"
   ]
  }
 ],
 "metadata": {
  "language_info": {
   "name": "python"
  }
 },
 "nbformat": 4,
 "nbformat_minor": 5
}
