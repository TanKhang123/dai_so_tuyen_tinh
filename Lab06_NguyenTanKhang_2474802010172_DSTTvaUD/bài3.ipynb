{
 "cells": [
  {
   "cell_type": "code",
   "execution_count": 1,
   "id": "a015b569",
   "metadata": {},
   "outputs": [
    {
     "name": "stdout",
     "output_type": "stream",
     "text": [
      "Trạng thái sau 100 tuần (làm việc, thất nghiệp):\n",
      "[[0.98550723]\n",
      " [0.01449277]]\n"
     ]
    }
   ],
   "source": [
    "import numpy as np\n",
    "from numpy.linalg import matrix_power, inv\n",
    "\n",
    "# Phần 1: Markov - Sau 100 tuần\n",
    "A = np.array([[0.998, 0.136],\n",
    "              [0.002, 0.864]])\n",
    "v0 = np.array([[0.95], [0.05]])\n",
    "A100 = matrix_power(A, 100)\n",
    "v100 = A100 @ v0\n",
    "print(\"Trạng thái sau 100 tuần (làm việc, thất nghiệp):\")\n",
    "print(v100)"
   ]
  },
  {
   "cell_type": "code",
   "execution_count": 7,
   "id": "64aa502e",
   "metadata": {},
   "outputs": [
    {
     "ename": "ModuleNotFoundError",
     "evalue": "No module named 'sympy'",
     "output_type": "error",
     "traceback": [
      "\u001b[31m---------------------------------------------------------------------------\u001b[39m",
      "\u001b[31mModuleNotFoundError\u001b[39m                       Traceback (most recent call last)",
      "\u001b[36mCell\u001b[39m\u001b[36m \u001b[39m\u001b[32mIn[7]\u001b[39m\u001b[32m, line 2\u001b[39m\n\u001b[32m      1\u001b[39m \u001b[38;5;66;03m# Ô 1: Import thư viện\u001b[39;00m\n\u001b[32m----> \u001b[39m\u001b[32m2\u001b[39m \u001b[38;5;28;01mimport\u001b[39;00m\u001b[38;5;250m \u001b[39m\u001b[34;01msympy\u001b[39;00m\u001b[38;5;250m \u001b[39m\u001b[38;5;28;01mas\u001b[39;00m\u001b[38;5;250m \u001b[39m\u001b[34;01msym\u001b[39;00m\n\u001b[32m      4\u001b[39m \u001b[38;5;66;03m# Ô 2: Khai báo biến và biểu thức\u001b[39;00m\n\u001b[32m      5\u001b[39m x, y = sym.symbols(\u001b[33m'\u001b[39m\u001b[33mx y\u001b[39m\u001b[33m'\u001b[39m)\n",
      "\u001b[31mModuleNotFoundError\u001b[39m: No module named 'sympy'"
     ]
    }
   ],
   "source": [
    "# Ô 1: Import thư viện\n",
    "import sympy as sym\n",
    "\n",
    "# Ô 2: Khai báo biến và biểu thức\n",
    "x, y = sym.symbols('x y')\n",
    "\n",
    "# Tạo hệ phương trình (dùng Rational để tránh sai số)\n",
    "eq1 = sym.Eq(sym.Rational(-2, 1000)*x + sym.Rational(136, 1000)*y, 0)\n",
    "eq2 = sym.Eq(x + y, 1)\n",
    "\n",
    "# Ô 3: Giải hệ phương trình\n",
    "nghiem = sym.solve([eq1, eq2], (x, y))\n",
    "\n",
    "# Ô 4: Hiển thị kết quả\n",
    "print(\"Trạng thái cân bằng:\")\n",
    "sym.pprint(nghiem)\n",
    "\n",
    "# In thêm dạng thập phân\n",
    "print(\"\\nKết quả dưới dạng số thập phân:\")\n",
    "print(f\"x = {sym.N(nghiem[x])} (có việc làm)\")\n",
    "print(f\"y = {sym.N(nghiem[y])} (thất nghiệp)\")\n"
   ]
  },
  {
   "cell_type": "code",
   "execution_count": 3,
   "id": "2bfafc10",
   "metadata": {},
   "outputs": [
    {
     "name": "stdout",
     "output_type": "stream",
     "text": [
      "A tái tạo lại từ chéo hóa:\n",
      "[[ 2.  3.]\n",
      " [ 3. -6.]]\n",
      "A^1000 (tính bằng chéo hóa):\n",
      "[[ 5.03503397e+18  3.50482117e+18]\n",
      " [ 3.50482117e+18 -4.31115581e+18]]\n"
     ]
    }
   ],
   "source": [
    "A = np.array([[2, 3], [3, -6]])\n",
    "D = np.array([[-7, 0], [0, 3]])\n",
    "P = np.array([[-1/3, 3], [1, 1]])\n",
    "P_inv = inv(P)\n",
    "A_check = P @ D @ P_inv\n",
    "print(\"A tái tạo lại từ chéo hóa:\")\n",
    "print(np.round(A_check, 4))\n",
    "\n",
    "D_power = np.linalg.matrix_power(D, 1000)\n",
    "A_power = P @ D_power @ P_inv\n",
    "print(\"A^1000 (tính bằng chéo hóa):\")\n",
    "print(np.round(A_power, 4))"
   ]
  }
 ],
 "metadata": {
  "kernelspec": {
   "display_name": "Python 3",
   "language": "python",
   "name": "python3"
  },
  "language_info": {
   "codemirror_mode": {
    "name": "ipython",
    "version": 3
   },
   "file_extension": ".py",
   "mimetype": "text/x-python",
   "name": "python",
   "nbconvert_exporter": "python",
   "pygments_lexer": "ipython3",
   "version": "3.12.6"
  }
 },
 "nbformat": 4,
 "nbformat_minor": 5
}
