{
 "cells": [
  {
   "cell_type": "code",
   "execution_count": 11,
   "metadata": {},
   "outputs": [
    {
     "name": "stdout",
     "output_type": "stream",
     "text": [
      "F2 =\n",
      " [[1. 0. 0.]\n",
      " [0. 1. 0.]\n",
      " [0. 0. 1.]]\n",
      "F3 =\n",
      " [[0. 0. 0.]\n",
      " [1. 0. 0.]\n",
      " [0. 1. 0.]]\n",
      "Rank of matrix C: 5\n",
      "Inverse of A (A.I): [[ 1.78184639 -0.59868199]\n",
      " [-1.18617223  1.50224399]]\n"
     ]
    }
   ],
   "source": [
    "# Import các thư viện cần thiết\n",
    "from scipy import linalg\n",
    "import numpy as np\n",
    "\n",
    "# Khởi tạo mảng và ma trận\n",
    "a = np.array([1, 2, 3])\n",
    "b = np.array([(1+9j, 2j, 3j), (4j, 5j, 6j)])  # số phức\n",
    "c = np.array([[(0.5, 1.5, 10), (3, 2, 1)], [(6, 5, 4), (7, 8, 9)]])  # ma trận số thực\n",
    "\n",
    "# Các kiểu khai báo và khởi tạo ma trận\n",
    "A = np.asmatrix(np.random.random((2, 2)))\n",
    "B = np.asmatrix(b)\n",
    "C = np.asmatrix(np.random.random((10, 5)))\n",
    "D = np.asmatrix([[4, 3], [2, 6]])\n",
    "F1 = np.eye(3, k=1)  # đường chéo trên đường chéo chính\n",
    "\n",
    "# Thử với k = 0\n",
    "F2 = np.eye(3, k=0)\n",
    "print(\"F2 =\\n\", F2)\n",
    "\n",
    "# Thử với k = -1\n",
    "F3 = np.eye(3, k=-1)\n",
    "print(\"F3 =\\n\", F3)\n",
    "\n",
    "# Xem hạng ma trận\n",
    "print(\"Rank of matrix C:\", np.linalg.matrix_rank(C))\n",
    "\n",
    "# Tính ma trận nghịch đảo\n",
    "print(\"Inverse of A (A.I):\", A.I)\n"
   ]
  }
 ],
 "metadata": {
  "kernelspec": {
   "display_name": "Python 3",
   "language": "python",
   "name": "python3"
  },
  "language_info": {
   "codemirror_mode": {
    "name": "ipython",
    "version": 3
   },
   "file_extension": ".py",
   "mimetype": "text/x-python",
   "name": "python",
   "nbconvert_exporter": "python",
   "pygments_lexer": "ipython3",
   "version": "3.12.6"
  }
 },
 "nbformat": 4,
 "nbformat_minor": 2
}
