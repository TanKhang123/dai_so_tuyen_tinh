{
 "cells": [
  {
   "cell_type": "code",
   "execution_count": 1,
   "id": "ada4bd8f",
   "metadata": {},
   "outputs": [
    {
     "name": "stdout",
     "output_type": "stream",
     "text": [
      "Ma trận A (truyền trực tiếp):\n",
      "[[0 1 0 1]\n",
      " [0 0 1 0]\n",
      " [1 0 0 1]\n",
      " [1 1 0 0]]\n",
      "A^2 (truyền trong 2 bước):\n",
      "[[1 1 1 0]\n",
      " [1 0 0 1]\n",
      " [1 2 0 1]\n",
      " [0 1 1 1]]\n",
      "A^3 (truyền trong 3 bước):\n",
      "[[1 1 1 2]\n",
      " [1 2 0 1]\n",
      " [1 2 2 1]\n",
      " [2 1 1 1]]\n",
      "Tổng số cách truyền tin trong ≤ 3 bước:\n",
      "[[2 3 2 3]\n",
      " [2 2 1 2]\n",
      " [3 4 2 3]\n",
      " [3 3 2 2]]\n"
     ]
    }
   ],
   "source": [
    "import numpy as np\n",
    "\n",
    "# Ma trận truyền tin A\n",
    "A = np.array([\n",
    "    [0, 1, 0, 1],\n",
    "    [0, 0, 1, 0],\n",
    "    [1, 0, 0, 1],\n",
    "    [1, 1, 0, 0]\n",
    "])\n",
    "\n",
    "print(\"Ma trận A (truyền trực tiếp):\")\n",
    "print(A)\n",
    "#\n",
    "temp = A.dot(A)\n",
    "print(\"A^2 (truyền trong 2 bước):\")\n",
    "print(temp)\n",
    "#\n",
    "temp = temp.dot(A)\n",
    "print(\"A^3 (truyền trong 3 bước):\")\n",
    "print(temp)\n",
    "#\n",
    "sumA = A.copy()\n",
    "temp = A.dot(A)\n",
    "sumA += temp\n",
    "temp = temp.dot(A)\n",
    "sumA += temp\n",
    "\n",
    "print(\"Tổng số cách truyền tin trong ≤ 3 bước:\")\n",
    "print(sumA)"
   ]
  }
 ],
 "metadata": {
  "kernelspec": {
   "display_name": "Python 3",
   "language": "python",
   "name": "python3"
  },
  "language_info": {
   "codemirror_mode": {
    "name": "ipython",
    "version": 3
   },
   "file_extension": ".py",
   "mimetype": "text/x-python",
   "name": "python",
   "nbconvert_exporter": "python",
   "pygments_lexer": "ipython3",
   "version": "3.12.6"
  }
 },
 "nbformat": 4,
 "nbformat_minor": 5
}
