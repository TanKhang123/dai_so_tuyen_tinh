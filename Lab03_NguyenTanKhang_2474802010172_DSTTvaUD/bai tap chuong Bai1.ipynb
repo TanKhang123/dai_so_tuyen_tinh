{
 "cells": [
  {
   "cell_type": "code",
   "execution_count": 3,
   "id": "38a8670a",
   "metadata": {},
   "outputs": [
    {
     "data": {
      "text/plain": [
       "(array([[ 2, -1,  0],\n",
       "        [ 1,  1,  1],\n",
       "        [ 3, -2,  1]]),\n",
       " np.float64(4.0),\n",
       " array([[ 0.75,  0.25, -0.25],\n",
       "        [ 0.5 ,  0.5 , -0.5 ],\n",
       "        [-1.25,  0.25,  0.75]]),\n",
       " array([[ -6,  70,  85,  26,  40,  12],\n",
       "        [ 91, 119,  97, 101,  98, 136],\n",
       "        [ 21, 129, 144,  23,  86,  44]]),\n",
       " 'Nguyen Tan Khang  ')"
      ]
     },
     "execution_count": 3,
     "metadata": {},
     "output_type": "execute_result"
    }
   ],
   "source": [
    "import numpy as np\n",
    "\n",
    "# a. Tự chọn một ma trận khả nghịch 3x3. Sinh viên chứng minh ma trận đó khả nghịch \n",
    "A = np.array([[2, -1, 0],\n",
    "              [1, 1, 1],\n",
    "              [3, -2, 1]])\n",
    "det_A = np.linalg.det(A)\n",
    "inv_A = np.linalg.inv(A) if det_A != 0 else None\n",
    "\n",
    "# b. Nhập họ và tên hoặc mã số sinh viên\n",
    "text = \"Nguyen Tan Khang\"\n",
    "\n",
    "\n",
    "char_to_num = {chr(i): i - 65 for i in range(65, 91)} \n",
    "char_to_num.update({chr(i): i - 71 for i in range(97, 123)})  \n",
    "char_to_num[' '] = 52\n",
    "\n",
    "\n",
    "num_to_char = {v: k for k, v in char_to_num.items()}\n",
    "\n",
    "# c. Mã hóa họ và tên hoặc mã số sinh viên (của sinh viên). \n",
    "nums = [char_to_num[char] for char in text if char in char_to_num]\n",
    "\n",
    "\n",
    "while len(nums) % 3 != 0:\n",
    "    nums.append(52)\n",
    "\n",
    "vectors = np.array(nums).reshape(-1, 3).T\n",
    "encoded = A @ vectors\n",
    "\n",
    "# d. d. Thực hiện giải mã với ma trận được chọn. \n",
    "decoded_vectors = np.round(inv_A @ encoded).astype(int)\n",
    "decoded_nums = decoded_vectors.T.flatten()\n",
    "decoded_text = ''.join(num_to_char[n] for n in decoded_nums if n in num_to_char)\n",
    "\n",
    "A, det_A, inv_A, encoded, decoded_text\n"
   ]
  }
 ],
 "metadata": {
  "kernelspec": {
   "display_name": "Python 3",
   "language": "python",
   "name": "python3"
  },
  "language_info": {
   "codemirror_mode": {
    "name": "ipython",
    "version": 3
   },
   "file_extension": ".py",
   "mimetype": "text/x-python",
   "name": "python",
   "nbconvert_exporter": "python",
   "pygments_lexer": "ipython3",
   "version": "3.12.6"
  }
 },
 "nbformat": 4,
 "nbformat_minor": 5
}
