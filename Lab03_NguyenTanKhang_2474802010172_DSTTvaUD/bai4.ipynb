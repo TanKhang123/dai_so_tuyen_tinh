{
 "cells": [
  {
   "cell_type": "code",
   "execution_count": 2,
   "id": "9047fa08",
   "metadata": {},
   "outputs": [
    {
     "name": "stdout",
     "output_type": "stream",
     "text": [
      "Kết quả mã hóa:\n",
      "Tế- à0ả 1: [ 16  32 -66]\n",
      "Tế- à0ả 2: [-19  13 -43]\n",
      "Tế- à0ả 3: [ 75   5 -37]\n",
      "Tế- à0ả 4: [ -46   20 -110]\n",
      "Tế- à0ả 5: [ 71  80 -23]\n",
      "Tế- à0ả 6: [ -23   49 -133]\n",
      "Tế- à0ả 7: [  40   50 -150]\n",
      "\n",
      "Phục hồi lại đoạn mã gốc:\n",
      "Đoạn 1: [13 11 17]\n",
      "Đoạn 2: [ 1  0 11]\n",
      "Đoạn 3: [17 34  5]\n",
      "Đoạn 4: [ 0  6 26]\n",
      "Đoạn 5: [33  0 14]\n",
      "Đoạn 6: [12  9 34]\n",
      "Đoạn 7: [25 35 35]\n"
     ]
    }
   ],
   "source": [
    "import numpy as np\n",
    "\n",
    "# Ma trận mã hóa\n",
    "M = np.array([\n",
    "    [ 3,  1, -2],\n",
    "    [ 2, -1,  1],\n",
    "    [ 1, -1, -4]\n",
    "])\n",
    "\n",
    "# Dữ liệu gốc cắt thành các đoạn\n",
    "vectors = [\n",
    "    [13, 11, 17],\n",
    "    [ 1,  0, 11],\n",
    "    [17, 34,  5],\n",
    "    [ 0,  6, 26],\n",
    "    [33,  0, 14],\n",
    "    [12,  9, 34],\n",
    "    [25, 35, 35]\n",
    "]\n",
    "\n",
    "# Mã hóa từng đoạn\n",
    "print(\"Kết quả mã hóa:\")\n",
    "encoded_vectors = []\n",
    "for i, v in enumerate(vectors, start=1):\n",
    "    v = np.array(v)\n",
    "    result = M.dot(v)\n",
    "    encoded_vectors.append(result)\n",
    "    print(f\"Tế- à0ả {i}: {result}\")\n",
    "M_inv = np.linalg.inv(M)\n",
    "\n",
    "# Giải mã lại từng đoạn\n",
    "print(\"\\nPhục hồi lại đoạn mã gốc:\")\n",
    "for i, y in enumerate(encoded_vectors, start=1):\n",
    "    x = M_inv.dot(y)\n",
    "    x_rounded = np.round(x).astype(int)\n",
    "    print(f\"Đoạn {i}: {x_rounded}\")\n"
   ]
  }
 ],
 "metadata": {
  "kernelspec": {
   "display_name": "Python 3",
   "language": "python",
   "name": "python3"
  },
  "language_info": {
   "codemirror_mode": {
    "name": "ipython",
    "version": 3
   },
   "file_extension": ".py",
   "mimetype": "text/x-python",
   "name": "python",
   "nbconvert_exporter": "python",
   "pygments_lexer": "ipython3",
   "version": "3.12.6"
  }
 },
 "nbformat": 4,
 "nbformat_minor": 5
}
