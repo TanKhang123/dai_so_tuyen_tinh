{
 "cells": [
  {
   "cell_type": "code",
   "execution_count": 1,
   "id": "5178368a",
   "metadata": {},
   "outputs": [
    {
     "name": "stdout",
     "output_type": "stream",
     "text": [
      "Ma trận gốc A:\n",
      "[[2 4 6 8]\n",
      " [1 3 5 7]\n",
      " [9 7 5 3]]\n",
      "\n",
      "Ma trận B:\n",
      "[[0.16593833 0.02937297]\n",
      " [0.8293568  0.2350453 ]\n",
      " [0.74358659 0.15202312]]\n",
      "\n",
      "Ma trận C:\n",
      "[[  39.34997523   27.62695235   15.90392947    4.1809066 ]\n",
      " [-134.41985414  -85.28621272  -36.1525713    12.98107012]]\n",
      "\n",
      "Ma trận A khôi phục lại (gần đúng):\n",
      "[[2.58135858 2.07926081 1.57716304 1.07506526]\n",
      " [1.040414   2.86647697 4.69253994 6.5186029 ]\n",
      " [8.82518875 7.57755545 6.32992214 5.08228883]]\n",
      "\n",
      "Sai số tuyệt đối giữa A và A_reconstructed:\n",
      "[[0.58135858 1.92073919 4.42283696 6.92493474]\n",
      " [0.040414   0.13352303 0.30746006 0.4813971 ]\n",
      " [0.17481125 0.57755545 1.32992214 2.08228883]]\n"
     ]
    }
   ],
   "source": [
    "#3.11\n",
    "import numpy as np\n",
    "A = np.array([\n",
    "    [2, 4, 6, 8],\n",
    "    [1, 3, 5, 7],\n",
    "    [9, 7, 5, 3]\n",
    "])\n",
    "print(\"Ma trận gốc A:\")\n",
    "print(A)\n",
    "B = np.random.rand(3, 2)\n",
    "C = np.linalg.pinv(B) @ A  \n",
    "print(\"\\nMa trận B:\")\n",
    "print(B)\n",
    "print(\"\\nMa trận C:\")\n",
    "print(C)\n",
    "A_reconstructed = B @ C\n",
    "print(\"\\nMa trận A khôi phục lại (gần đúng):\")\n",
    "print(A_reconstructed)\n",
    "error = np.abs(A - A_reconstructed)\n",
    "print(\"\\nSai số tuyệt đối giữa A và A_reconstructed:\")\n",
    "print(error)\n"
   ]
  },
  {
   "cell_type": "code",
   "execution_count": 5,
   "id": "a288d695",
   "metadata": {},
   "outputs": [
    {
     "ename": "ModuleNotFoundError",
     "evalue": "No module named 'scipy'",
     "output_type": "error",
     "traceback": [
      "\u001b[31m---------------------------------------------------------------------------\u001b[39m",
      "\u001b[31mModuleNotFoundError\u001b[39m                       Traceback (most recent call last)",
      "\u001b[36mCell\u001b[39m\u001b[36m \u001b[39m\u001b[32mIn[5]\u001b[39m\u001b[32m, line 3\u001b[39m\n\u001b[32m      1\u001b[39m \u001b[38;5;66;03m#3.2\u001b[39;00m\n\u001b[32m      2\u001b[39m \u001b[38;5;28;01mimport\u001b[39;00m\u001b[38;5;250m \u001b[39m\u001b[34;01mnumpy\u001b[39;00m\u001b[38;5;250m \u001b[39m\u001b[38;5;28;01mas\u001b[39;00m\u001b[38;5;250m \u001b[39m\u001b[34;01mnp\u001b[39;00m\n\u001b[32m----> \u001b[39m\u001b[32m3\u001b[39m \u001b[38;5;28;01mfrom\u001b[39;00m\u001b[38;5;250m \u001b[39m\u001b[34;01mscipy\u001b[39;00m\u001b[38;5;250m \u001b[39m\u001b[38;5;28;01mimport\u001b[39;00m linalg\n\u001b[32m      5\u001b[39m M = np.array([[\u001b[32m0.8\u001b[39m, \u001b[32m0.3\u001b[39m],\n\u001b[32m      6\u001b[39m               [\u001b[32m0.2\u001b[39m, \u001b[32m0.7\u001b[39m]])\n\u001b[32m      7\u001b[39m \u001b[38;5;28mprint\u001b[39m(\u001b[33m\"\u001b[39m\u001b[33mMa trận M ban đầu:\u001b[39m\u001b[33m\"\u001b[39m)\n",
      "\u001b[31mModuleNotFoundError\u001b[39m: No module named 'scipy'"
     ]
    }
   ],
   "source": [
    "#3.2\n",
    "import numpy as np\n",
    "from scipy import linalg\n",
    "\n",
    "M = np.array([[0.8, 0.3],\n",
    "              [0.2, 0.7]])\n",
    "print(\"Ma trận M ban đầu:\")\n",
    "print(M)\n",
    "\n",
    "P, L, U = linalg.lu(M)\n",
    "\n",
    "print(\"\\nMa trận P (ma trận hoán vị):\")\n",
    "print(P)\n",
    "\n",
    "print(\"\\nMa trận L (tam giác dưới):\")\n",
    "print(L)\n",
    "\n",
    "print(\"\\nMa trận U (tam giác trên):\")\n",
    "print(U)\n",
    "\n",
    "reconstructed = L.dot(U)\n",
    "print(\"\\nTích L.dot(U) (không có P):\")\n",
    "print(reconstructed)\n",
    "\n",
    "print(\"\\nSo sánh P @ M và L @ U:\")\n",
    "print(\"P @ M:\")\n",
    "print(P.dot(M))\n",
    "\n",
    "print(\"L @ U:\")\n",
    "print(reconstructed)\n",
    "\n",
    "print(\"\\nKiểm tra tính gần bằng:\")\n",
    "print(np.allclose(P.dot(M), reconstructed))\n",
    "\n",
    "\n",
    "\n",
    "\n"
   ]
  }
 ],
 "metadata": {
  "kernelspec": {
   "display_name": "Python 3",
   "language": "python",
   "name": "python3"
  },
  "language_info": {
   "codemirror_mode": {
    "name": "ipython",
    "version": 3
   },
   "file_extension": ".py",
   "mimetype": "text/x-python",
   "name": "python",
   "nbconvert_exporter": "python",
   "pygments_lexer": "ipython3",
   "version": "3.12.6"
  }
 },
 "nbformat": 4,
 "nbformat_minor": 5
}
