{
 "cells": [
  {
   "cell_type": "code",
   "execution_count": 1,
   "id": "e84cc49e",
   "metadata": {},
   "outputs": [
    {
     "ename": "ModuleNotFoundError",
     "evalue": "No module named 'scipy'",
     "output_type": "error",
     "traceback": [
      "\u001b[31m---------------------------------------------------------------------------\u001b[39m",
      "\u001b[31mModuleNotFoundError\u001b[39m                       Traceback (most recent call last)",
      "\u001b[36mCell\u001b[39m\u001b[36m \u001b[39m\u001b[32mIn[1]\u001b[39m\u001b[32m, line 2\u001b[39m\n\u001b[32m      1\u001b[39m \u001b[38;5;28;01mimport\u001b[39;00m\u001b[38;5;250m \u001b[39m\u001b[34;01mnumpy\u001b[39;00m\u001b[38;5;250m \u001b[39m\u001b[38;5;28;01mas\u001b[39;00m\u001b[38;5;250m \u001b[39m\u001b[34;01mnp\u001b[39;00m\n\u001b[32m----> \u001b[39m\u001b[32m2\u001b[39m \u001b[38;5;28;01mfrom\u001b[39;00m\u001b[38;5;250m \u001b[39m\u001b[34;01mscipy\u001b[39;00m\u001b[38;5;250m \u001b[39m\u001b[38;5;28;01mimport\u001b[39;00m linalg, sparse\n",
      "\u001b[31mModuleNotFoundError\u001b[39m: No module named 'scipy'"
     ]
    }
   ],
   "source": [
    "import numpy as np\n",
    "from scipy import linalg, sparse"
   ]
  },
  {
   "cell_type": "code",
   "execution_count": 2,
   "id": "2e3d497d",
   "metadata": {},
   "outputs": [
    {
     "ename": "AttributeError",
     "evalue": "`np.mat` was removed in the NumPy 2.0 release. Use `np.asmatrix` instead.",
     "output_type": "error",
     "traceback": [
      "\u001b[31m---------------------------------------------------------------------------\u001b[39m",
      "\u001b[31mAttributeError\u001b[39m                            Traceback (most recent call last)",
      "\u001b[36mCell\u001b[39m\u001b[36m \u001b[39m\u001b[32mIn[2]\u001b[39m\u001b[32m, line 1\u001b[39m\n\u001b[32m----> \u001b[39m\u001b[32m1\u001b[39m D = \u001b[43mnp\u001b[49m\u001b[43m.\u001b[49m\u001b[43mmat\u001b[49m([[\u001b[32m3\u001b[39m, \u001b[32m4\u001b[39m], [\u001b[32m5\u001b[39m, \u001b[32m6\u001b[39m]])\n\u001b[32m      2\u001b[39m \u001b[38;5;28mprint\u001b[39m(\u001b[33m\"\u001b[39m\u001b[33mMa trận D:\u001b[39m\u001b[33m\"\u001b[39m)\n\u001b[32m      3\u001b[39m \u001b[38;5;28mprint\u001b[39m(D)\n",
      "\u001b[36mFile \u001b[39m\u001b[32mc:\\Users\\nguyễn tấn khang\\AppData\\Local\\Programs\\Python\\Python312\\Lib\\site-packages\\numpy\\__init__.py:413\u001b[39m, in \u001b[36m__getattr__\u001b[39m\u001b[34m(attr)\u001b[39m\n\u001b[32m    410\u001b[39m     \u001b[38;5;28;01mraise\u001b[39;00m \u001b[38;5;167;01mAttributeError\u001b[39;00m(__former_attrs__[attr], name=\u001b[38;5;28;01mNone\u001b[39;00m)\n\u001b[32m    412\u001b[39m \u001b[38;5;28;01mif\u001b[39;00m attr \u001b[38;5;129;01min\u001b[39;00m __expired_attributes__:\n\u001b[32m--> \u001b[39m\u001b[32m413\u001b[39m     \u001b[38;5;28;01mraise\u001b[39;00m \u001b[38;5;167;01mAttributeError\u001b[39;00m(\n\u001b[32m    414\u001b[39m         \u001b[33mf\u001b[39m\u001b[33m\"\u001b[39m\u001b[33m`np.\u001b[39m\u001b[38;5;132;01m{\u001b[39;00mattr\u001b[38;5;132;01m}\u001b[39;00m\u001b[33m` was removed in the NumPy 2.0 release. \u001b[39m\u001b[33m\"\u001b[39m\n\u001b[32m    415\u001b[39m         \u001b[33mf\u001b[39m\u001b[33m\"\u001b[39m\u001b[38;5;132;01m{\u001b[39;00m__expired_attributes__[attr]\u001b[38;5;132;01m}\u001b[39;00m\u001b[33m\"\u001b[39m,\n\u001b[32m    416\u001b[39m         name=\u001b[38;5;28;01mNone\u001b[39;00m\n\u001b[32m    417\u001b[39m     )\n\u001b[32m    419\u001b[39m \u001b[38;5;28;01mif\u001b[39;00m attr == \u001b[33m\"\u001b[39m\u001b[33mchararray\u001b[39m\u001b[33m\"\u001b[39m:\n\u001b[32m    420\u001b[39m     warnings.warn(\n\u001b[32m    421\u001b[39m         \u001b[33m\"\u001b[39m\u001b[33m`np.chararray` is deprecated and will be removed from \u001b[39m\u001b[33m\"\u001b[39m\n\u001b[32m    422\u001b[39m         \u001b[33m\"\u001b[39m\u001b[33mthe main namespace in the future. Use an array with a string \u001b[39m\u001b[33m\"\u001b[39m\n\u001b[32m    423\u001b[39m         \u001b[33m\"\u001b[39m\u001b[33mor bytes dtype instead.\u001b[39m\u001b[33m\"\u001b[39m, \u001b[38;5;167;01mDeprecationWarning\u001b[39;00m, stacklevel=\u001b[32m2\u001b[39m)\n",
      "\u001b[31mAttributeError\u001b[39m: `np.mat` was removed in the NumPy 2.0 release. Use `np.asmatrix` instead."
     ]
    }
   ],
   "source": [
    "D = np.mat([[3, 4], [5, 6]])\n",
    "print(\"Ma trận D:\")\n",
    "print(D)\n",
    "\n",
    "C = np.mat(np.random.random((5, 7)))\n",
    "print(\"Ma trận C (5x7):\")\n",
    "print(C)\n",
    "\n",
    "A = np.mat(np.random.random((2, 2)))\n",
    "print(\"Ma trận A (2x2):\")\n",
    "print(A)"
   ]
  },
  {
   "cell_type": "code",
   "execution_count": 3,
   "id": "21c0672e",
   "metadata": {},
   "outputs": [
    {
     "name": "stdout",
     "output_type": "stream",
     "text": [
      "Mảng b:\n",
      "[[1.+5.j 0.+2.j 0.+3.j]\n",
      " [4.+0.j 5.+0.j 6.+0.j]]\n",
      "Ma trận B:\n",
      "[[1.+5.j 0.+2.j 0.+3.j]\n",
      " [4.+0.j 5.+0.j 6.+0.j]]\n",
      "Chuyển vị của A:\n"
     ]
    },
    {
     "ename": "NameError",
     "evalue": "name 'A' is not defined",
     "output_type": "error",
     "traceback": [
      "\u001b[31m---------------------------------------------------------------------------\u001b[39m",
      "\u001b[31mNameError\u001b[39m                                 Traceback (most recent call last)",
      "\u001b[36mCell\u001b[39m\u001b[36m \u001b[39m\u001b[32mIn[3]\u001b[39m\u001b[32m, line 9\u001b[39m\n\u001b[32m      6\u001b[39m \u001b[38;5;28mprint\u001b[39m(B)\n\u001b[32m      8\u001b[39m \u001b[38;5;28mprint\u001b[39m(\u001b[33m\"\u001b[39m\u001b[33mChuyển vị của A:\u001b[39m\u001b[33m\"\u001b[39m)\n\u001b[32m----> \u001b[39m\u001b[32m9\u001b[39m \u001b[38;5;28mprint\u001b[39m(\u001b[43mA\u001b[49m.T)\n\u001b[32m     11\u001b[39m \u001b[38;5;28mprint\u001b[39m(\u001b[33m\"\u001b[39m\u001b[33mNghịch đảo của A:\u001b[39m\u001b[33m\"\u001b[39m)\n\u001b[32m     12\u001b[39m \u001b[38;5;28mprint\u001b[39m(A.I)\n",
      "\u001b[31mNameError\u001b[39m: name 'A' is not defined"
     ]
    }
   ],
   "source": [
    "b = np.array([(1+5j, 2j, 3j), (4, 5, 6)])\n",
    "B = np.asmatrix(b)\n",
    "print(\"Mảng b:\")\n",
    "print(b)\n",
    "print(\"Ma trận B:\")\n",
    "print(B)\n",
    "\n",
    "print(\"Chuyển vị của A:\")\n",
    "print(A.T)\n",
    "\n",
    "print(\"Nghịch đảo của A:\")\n",
    "print(A.I)\n",
    "print(\"Hoặc dùng scipy:\")\n",
    "print(linalg.inv(A))"
   ]
  },
  {
   "cell_type": "code",
   "execution_count": 4,
   "id": "4bd11f15",
   "metadata": {},
   "outputs": [
    {
     "name": "stdout",
     "output_type": "stream",
     "text": [
      "Ma trận M:\n",
      "[[-1  3  2]\n",
      " [ 0 -2  1]\n",
      " [ 1  5 -2]]\n",
      "Ma trận dưới đường chéo:\n",
      "[[-1  0  0]\n",
      " [ 0 -2  0]\n",
      " [ 1  5 -2]]\n",
      "Ma trận trên đường chéo:\n",
      "[[-1  3  2]\n",
      " [ 0 -2  1]\n",
      " [ 0  0 -2]]\n",
      "Vector đường chéo:\n",
      "[-1 -2 -2]\n",
      "Ma trận đường chéo:\n",
      "[[-1  0  0]\n",
      " [ 0 -2  0]\n",
      " [ 0  0 -2]]\n"
     ]
    }
   ],
   "source": [
    "M = np.array([[-1,3,2],[0,-2,1],[1,5,-2]])\n",
    "print(\"Ma trận M:\")\n",
    "print(M)\n",
    "\n",
    "print(\"Ma trận dưới đường chéo:\")\n",
    "print(np.tril(M))\n",
    "\n",
    "print(\"Ma trận trên đường chéo:\")\n",
    "print(np.triu(M))\n",
    "\n",
    "v_diag = np.diag(M)\n",
    "print(\"Vector đường chéo:\")\n",
    "print(v_diag)\n",
    "\n",
    "M_diag = np.diag(v_diag)\n",
    "print(\"Ma trận đường chéo:\")\n",
    "print(M_diag)"
   ]
  },
  {
   "cell_type": "code",
   "execution_count": 5,
   "id": "f2a2c774",
   "metadata": {},
   "outputs": [
    {
     "name": "stdout",
     "output_type": "stream",
     "text": [
      "Ma trận A:\n",
      "[[ 0.  1.  2.  3.  4.  5.]\n",
      " [ 6.  7.  8.  9. 10. 11.]\n",
      " [12. 13. 14. 15. 16. 17.]\n",
      " [18. 19. 20. 21. 22. 23.]\n",
      " [24. 25. 26. 27. 28. 29.]\n",
      " [30. 31. 32. 33. 34. 35.]]\n",
      "Ma trận đơn vị I6:\n",
      "[[1. 0. 0. 0. 0. 0.]\n",
      " [0. 1. 0. 0. 0. 0.]\n",
      " [0. 0. 1. 0. 0. 0.]\n",
      " [0. 0. 0. 1. 0. 0.]\n",
      " [0. 0. 0. 0. 1. 0.]\n",
      " [0. 0. 0. 0. 0. 1.]]\n",
      "Kích thước A: 36\n",
      "Đường chéo của A: [ 0.  7. 14. 21. 28. 35.]\n",
      "Ma trận A sau khi cộng I6:\n",
      "[[ 1.  1.  2.  3.  4.  5.]\n",
      " [ 6.  8.  8.  9. 10. 11.]\n",
      " [12. 13. 15. 15. 16. 17.]\n",
      " [18. 19. 20. 22. 22. 23.]\n",
      " [24. 25. 26. 27. 29. 29.]\n",
      " [30. 31. 32. 33. 34. 36.]]\n"
     ]
    }
   ],
   "source": [
    "A = np.reshape(np.arange(36.0), (6, 6))\n",
    "print(\"Ma trận A:\")\n",
    "print(A)\n",
    "\n",
    "I6 = np.identity(6)\n",
    "print(\"Ma trận đơn vị I6:\")\n",
    "print(I6)\n",
    "\n",
    "print(\"Kích thước A:\", A.size)\n",
    "print(\"Đường chéo của A:\", A.diagonal())\n",
    "\n",
    "A = A + I6\n",
    "print(\"Ma trận A sau khi cộng I6:\")\n",
    "print(A)"
   ]
  },
  {
   "cell_type": "code",
   "execution_count": 6,
   "id": "f3930d41",
   "metadata": {},
   "outputs": [
    {
     "name": "stdout",
     "output_type": "stream",
     "text": [
      "Tích A.dot(vecB):\n",
      "[ 71. 198. 325. 452. 579. 706.]\n",
      "Ma trận D:\n",
      "[[1. 2. 3. 4. 5. 6.]\n",
      " [1. 0. 1. 0. 1. 0.]]\n",
      "Tích A.dot(D.T):\n",
      "[[ 71.   7.]\n",
      " [198.  24.]\n",
      " [325.  43.]\n",
      " [452.  60.]\n",
      " [579.  79.]\n",
      " [706.  96.]]\n",
      "Ma trận F:\n",
      "[[1. 1.]\n",
      " [2. 0.]\n",
      " [3. 1.]\n",
      " [4. 0.]\n",
      " [5. 1.]\n",
      " [6. 0.]]\n",
      "Tích A.dot(F):\n",
      "[[ 71.   7.]\n",
      " [198.  24.]\n",
      " [325.  43.]\n",
      " [452.  60.]\n",
      " [579.  79.]\n",
      " [706.  96.]]\n"
     ]
    }
   ],
   "source": [
    "vecB = np.array([1., 2., 3., 4., 5., 6.])\n",
    "C = A.dot(vecB)\n",
    "print(\"Tích A.dot(vecB):\")\n",
    "print(C)\n",
    "\n",
    "D = np.array([[1., 2., 3., 4., 5., 6.], [1., 0., 1., 0., 1., 0.]])\n",
    "print(\"Ma trận D:\")\n",
    "print(D)\n",
    "E = A.dot(D.T)\n",
    "print(\"Tích A.dot(D.T):\")\n",
    "print(E)\n",
    "\n",
    "F = np.array([[1., 1.], [2., 0.], [3., 1.], [4., 0], [5., 1], [6., 0.]])\n",
    "print(\"Ma trận F:\")\n",
    "print(F)\n",
    "G = A.dot(F)\n",
    "print(\"Tích A.dot(F):\")\n",
    "print(G)"
   ]
  },
  {
   "cell_type": "code",
   "execution_count": 7,
   "id": "c6adc488",
   "metadata": {},
   "outputs": [
    {
     "name": "stdout",
     "output_type": "stream",
     "text": [
      "Nghịch đảo của A:\n",
      "[[ 0.37022901 -0.45610687 -0.28244275 -0.10877863  0.0648855   0.23854962]\n",
      " [-0.44656489  0.65839695 -0.23664122 -0.13167939 -0.02671756  0.07824427]\n",
      " [-0.26335878 -0.22709924  0.80916031 -0.15458015 -0.11832061 -0.08206107]\n",
      " [-0.08015267 -0.11259542 -0.14503817  0.82251908 -0.20992366 -0.24236641]\n",
      " [ 0.10305344  0.0019084  -0.09923664 -0.20038168  0.69847328 -0.40267176]\n",
      " [ 0.28625954  0.11641221 -0.05343511 -0.22328244 -0.39312977  0.4370229 ]]\n",
      "np.linalg.inv(np.linalg.inv(A)):\n",
      "[[ 1.  1.  2.  3.  4.  5.]\n",
      " [ 6.  8.  8.  9. 10. 11.]\n",
      " [12. 13. 15. 15. 16. 17.]\n",
      " [18. 19. 20. 22. 22. 23.]\n",
      " [24. 25. 26. 27. 29. 29.]\n",
      " [30. 31. 32. 33. 34. 36.]]\n"
     ]
    }
   ],
   "source": [
    "invA = np.linalg.inv(A)\n",
    "print(\"Nghịch đảo của A:\")\n",
    "print(invA)\n",
    "\n",
    "print(\"np.linalg.inv(np.linalg.inv(A)):\")\n",
    "print(np.linalg.inv(invA))"
   ]
  }
 ],
 "metadata": {
  "kernelspec": {
   "display_name": "Python 3",
   "language": "python",
   "name": "python3"
  },
  "language_info": {
   "codemirror_mode": {
    "name": "ipython",
    "version": 3
   },
   "file_extension": ".py",
   "mimetype": "text/x-python",
   "name": "python",
   "nbconvert_exporter": "python",
   "pygments_lexer": "ipython3",
   "version": "3.12.6"
  }
 },
 "nbformat": 4,
 "nbformat_minor": 5
}
